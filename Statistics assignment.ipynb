{
 "cells": [
  {
   "cell_type": "code",
   "execution_count": 1,
   "id": "8d91b297-88d4-4c23-916e-8de3e1c880f4",
   "metadata": {},
   "outputs": [
    {
     "name": "stdout",
     "output_type": "stream",
     "text": [
      "Expected Value: 3.5\n",
      "Variance: 2.9166666666666665\n"
     ]
    }
   ],
   "source": [
    "# Answer 3\n",
    "\n",
    "class DiscreteRandomVariable:\n",
    "    def __init__(self, values, probabilities):\n",
    "        \"\"\"\n",
    "        Initializes a discrete random variable.\n",
    "\n",
    "        :param values: A list of possible values the random variable can take.\n",
    "        :param probabilities: A list of probabilities corresponding to each value.\n",
    "                              The probabilities must sum to 1.\n",
    "        \"\"\"\n",
    "        if len(values) != len(probabilities):\n",
    "            raise ValueError(\"The number of values must match the number of probabilities.\")\n",
    "        if not (0 <= min(probabilities) <= 1):\n",
    "            raise ValueError(\"Probabilities must be between 0 and 1.\")\n",
    "        if abs(sum(probabilities) - 1) > 1e-6:\n",
    "            raise ValueError(\"Probabilities must sum to 1.\")\n",
    "\n",
    "        self.values = values\n",
    "        self.probabilities = probabilities\n",
    "\n",
    "    def expected_value(self):\n",
    "        \"\"\"\n",
    "        Calculates the expected value (mean) of the random variable.\n",
    "\n",
    "        :return: The expected value.\n",
    "        \"\"\"\n",
    "        return sum(v * p for v, p in zip(self.values, self.probabilities))\n",
    "\n",
    "    def variance(self):\n",
    "        \"\"\"\n",
    "        Calculates the variance of the random variable.\n",
    "\n",
    "        :return: The variance.\n",
    "        \"\"\"\n",
    "        mean = self.expected_value()\n",
    "        return sum(p * (v - mean) ** 2 for v, p in zip(self.values, self.probabilities))\n",
    "\n",
    "\n",
    "# Example usage:\n",
    "values = [1, 2, 3, 4, 5, 6]\n",
    "probabilities = [1/6] * 6  # Uniform distribution for a fair six-sided die\n",
    "die = DiscreteRandomVariable(values, probabilities)\n",
    "\n",
    "print(f\"Expected Value: {die.expected_value()}\")\n",
    "print(f\"Variance: {die.variance()}\")\n"
   ]
  },
  {
   "cell_type": "code",
   "execution_count": 2,
   "id": "1a964513-3477-42a7-815e-08cf4075fb45",
   "metadata": {},
   "outputs": [
    {
     "data": {
      "text/plain": [
       "<function print>"
      ]
     },
     "execution_count": 2,
     "metadata": {},
     "output_type": "execute_result"
    }
   ],
   "source": [
    "# Answer 4\n",
    "\n",
    "import random\n",
    "import numpy as np\n",
    "\n",
    "def simulate_die_rolls(num_rolls):\n",
    "    \"\"\"\n",
    "    Simulates rolling a fair six-sided die multiple times.\n",
    "\n",
    "    :param num_rolls: The number of times to roll the die.\n",
    "    :return: The mean (expected value) and variance of the outcomes.\n",
    "    \"\"\"\n",
    "    # Simulate rolling the die num_rolls times\n",
    "    rolls = [random.randint(1, 6) for _ in range(num_rolls)]\n",
    "\n",
    "    # Calculate the mean (expected value) of the rolls\n",
    "    mean = np.mean(rolls)\n",
    "\n",
    "    # Calculate the variance of the rolls\n",
    "    variance = np.var(rolls)\n",
    "\n",
    "    return mean, variance\n",
    "\n",
    "# Example usage: Simulate rolling the die 10,000 times\n",
    "num_rolls = 10000\n",
    "mean, variance = simulate_die_rolls(num_rolls)\n",
    "\n",
    "print\n"
   ]
  },
  {
   "cell_type": "code",
   "execution_count": 4,
   "id": "70a3284f-9a51-44f5-83b6-7f6bd171d9d5",
   "metadata": {},
   "outputs": [
    {
     "name": "stdout",
     "output_type": "stream",
     "text": [
      "Binomial Distribution - Mean: 5.056, Variance: 2.5728639999999996\n"
     ]
    }
   ],
   "source": [
    "# Answer 5\n",
    "\n",
    "import numpy as np\n",
    "from scipy.stats import binom, poisson\n",
    "\n",
    "def generate_samples(distribution, params, size=1000):\n",
    "    \"\"\"\n",
    "    Generates random samples from a given probability distribution and calculates their mean and variance.\n",
    "\n",
    "    :param distribution: The name of the distribution ('binomial' or 'poisson').\n",
    "    :param params: Parameters for the distribution.\n",
    "                   - For 'binomial': (n, p) where n is the number of trials and p is the probability of success.\n",
    "                   - For 'poisson': (mu,) where mu is the expected number of events (lambda).\n",
    "    :param size: The number of samples to generate (default is 1000).\n",
    "    :return: A tuple containing the generated samples, mean, and variance of the samples.\n",
    "    \"\"\"\n",
    "    if distribution == 'binomial':\n",
    "        n, p = params\n",
    "        samples = binom.rvs(n, p, size=size)\n",
    "    elif distribution == 'poisson':\n",
    "        mu = params[0]\n",
    "        samples = poisson.rvs(mu, size=size)\n",
    "    else:\n",
    "        raise ValueError(\"Unsupported distribution. Choose 'binomial' or 'poisson'.\")\n",
    "\n",
    "    mean = np.mean(samples)\n",
    "    variance = np.var(samples)\n",
    "    return samples, mean, variance\n",
    "\n",
    "# Example usage: Generate samples from a binomial distribution\n",
    "samples, mean, variance = generate_samples('binomial', (10, 0.5), size=1000)\n",
    "print(f\"Binomial Distribution - Mean: {mean}, Variance: {variance}\")\n",
    "\n",
    "# Example usage: Generate samples from a Poisson distribution\n",
    "#sample\n"
   ]
  },
  {
   "cell_type": "code",
   "execution_count": 5,
   "id": "e2e98a1a-886b-47f6-a081-c1e1f35012e5",
   "metadata": {},
   "outputs": [
    {
     "name": "stdout",
     "output_type": "stream",
     "text": [
      "Normal Distribution - Mean: 0.012617270345898449\n",
      "Normal Distribution - Variance: 1.0257600090483807\n",
      "Normal Distribution - Standard Deviation: 1.0127981087306497\n"
     ]
    }
   ],
   "source": [
    "# Answer 6\n",
    "\n",
    "import numpy as np\n",
    "from scipy.stats import norm\n",
    "\n",
    "def generate_normal_samples(mean=0, std=1, size=1000):\n",
    "    \"\"\"\n",
    "    Generates random samples from a Gaussian (normal) distribution and computes the mean, variance, and standard deviation.\n",
    "\n",
    "    :param mean: The mean (expected value) of the normal distribution.\n",
    "    :param std: The standard deviation of the normal distribution.\n",
    "    :param size: The number of samples to generate (default is 1000).\n",
    "    :return: A tuple containing the samples, calculated mean, variance, and standard deviation.\n",
    "    \"\"\"\n",
    "    # Generate samples from the normal distribution\n",
    "    samples = norm.rvs(loc=mean, scale=std, size=size)\n",
    "    \n",
    "    # Calculate mean, variance, and standard deviation of the samples\n",
    "    sample_mean = np.mean(samples)\n",
    "    sample_variance = np.var(samples)\n",
    "    sample_std = np.std(samples)\n",
    "    \n",
    "    return samples, sample_mean, sample_variance, sample_std\n",
    "\n",
    "# Example usage: Generate samples from a normal distribution\n",
    "samples, sample_mean, sample_variance, sample_std = generate_normal_samples(mean=0, std=1, size=1000)\n",
    "\n",
    "print(f\"Normal Distribution - Mean: {sample_mean}\")\n",
    "print(f\"Normal Distribution - Variance: {sample_variance}\")\n",
    "print(f\"Normal Distribution - Standard Deviation: {sample_std}\")\n"
   ]
  },
  {
   "cell_type": "code",
   "execution_count": 9,
   "id": "f9a3bfa1-4f30-48e9-8fad-14a4e21ea067",
   "metadata": {},
   "outputs": [
    {
     "name": "stdout",
     "output_type": "stream",
     "text": [
      "PDF value at x = 0 for N(0, 1^2): 0.3989422804014327\n"
     ]
    }
   ],
   "source": [
    "# Answer 8\n",
    "\n",
    "from scipy.stats import norm\n",
    "import numpy as np\n",
    "\n",
    "def calculate_normal_pdf(x, mean=0, std=1):\n",
    "    \"\"\"\n",
    "    Calculates the probability density function (PDF) of a normal distribution \n",
    "    at a given point x.\n",
    "\n",
    "    :param x: The point at which to evaluate the PDF.\n",
    "    :param mean: The mean of the normal distribution (default is 0).\n",
    "    :param std: The standard deviation of the normal distribution (default is 1).\n",
    "    :return: The value of the PDF at point x.\n",
    "    \"\"\"\n",
    "    # Calculate the PDF of the normal distribution at x\n",
    "    pdf_value = norm.pdf(x, loc=mean, scale=std)\n",
    "    return pdf_value\n",
    "\n",
    "# Example usage\n",
    "x = 0  # Point at which to calculate the PDF\n",
    "mean = 0  # Mean of the distribution\n",
    "std = 1  # Standard deviation of the distribution\n",
    "\n",
    "pdf_value = calculate_normal_pdf(x, mean, std)\n",
    "print(f\"PDF value at x = {x} for N({mean}, {std}^2): {pdf_value}\")\n"
   ]
  },
  {
   "cell_type": "code",
   "execution_count": 10,
   "id": "cc6577cc-0b0c-4b01-97e8-4114be66c5bf",
   "metadata": {},
   "outputs": [
    {
     "name": "stdout",
     "output_type": "stream",
     "text": [
      "CDF value at x = 2 for an exponential distribution with rate = 0.5: 0.6321205588285577\n"
     ]
    }
   ],
   "source": [
    "# Answer 9\n",
    "\n",
    "from scipy.stats import expon\n",
    "\n",
    "def calculate_exponential_cdf(x, rate):\n",
    "    \"\"\"\n",
    "    Calculates the cumulative distribution function (CDF) of an exponential distribution at a given point x.\n",
    "\n",
    "    :param x: The point at which to evaluate the CDF.\n",
    "    :param rate: The rate parameter (lambda) of the exponential distribution (lambda > 0).\n",
    "    :return: The value of the CDF at point x.\n",
    "    \"\"\"\n",
    "    # Calculate the scale parameter from the rate (scale = 1/rate)\n",
    "    scale = 1 / rate\n",
    "    \n",
    "    # Calculate the CDF of the exponential distribution at x\n",
    "    cdf_value = expon.cdf(x, scale=scale)\n",
    "    return cdf_value\n",
    "\n",
    "# Example usage\n",
    "x = 2  # Point at which to calculate the CDF\n",
    "rate = 0.5  # Rate parameter (lambda) of the distribution\n",
    "\n",
    "cdf_value = calculate_exponential_cdf(x, rate)\n",
    "print(f\"CDF value at x = {x} for an exponential distribution with rate = {rate}: {cdf_value}\")\n"
   ]
  },
  {
   "cell_type": "code",
   "execution_count": 11,
   "id": "c7c59d8e-0005-4c65-8a84-4772e0deb641",
   "metadata": {},
   "outputs": [
    {
     "name": "stdout",
     "output_type": "stream",
     "text": [
      "PMF value at k = 3 for a Poisson distribution with mu = 2.5: 0.21376301724973648\n"
     ]
    }
   ],
   "source": [
    "# Answer 10\n",
    "\n",
    "from scipy.stats import poisson\n",
    "\n",
    "def calculate_poisson_pmf(k, mu):\n",
    "    \"\"\"\n",
    "    Calculates the probability mass function (PMF) of a Poisson distribution at a given value k.\n",
    "\n",
    "    :param k: The number of occurrences (an integer) at which to evaluate the PMF.\n",
    "    :param mu: The average rate (lambda) of occurrences (must be non-negative).\n",
    "    :return: The value of the PMF at k.\n",
    "    \"\"\"\n",
    "    # Calculate the PMF of the Poisson distribution at k\n",
    "    pmf_value = poisson.pmf(k, mu)\n",
    "    return pmf_value\n",
    "\n",
    "# Example usage\n",
    "k = 3  # Number of occurrences\n",
    "mu = 2.5  # Average rate (lambda) of the Poisson distribution\n",
    "\n",
    "pmf_value = calculate_poisson_pmf(k, mu)\n",
    "print(f\"PMF value at k = {k} for a Poisson distribution with mu = {mu}: {pmf_value}\")\n"
   ]
  },
  {
   "cell_type": "code",
   "execution_count": 12,
   "id": "f6512719-2945-416b-9d3d-7ee31329c6b1",
   "metadata": {},
   "outputs": [
    {
     "name": "stdout",
     "output_type": "stream",
     "text": [
      "Z-statistic: -1.8831\n",
      "P-value: 0.9702\n",
      "Fail to reject the null hypothesis: No significant difference in conversion rates.\n"
     ]
    }
   ],
   "source": [
    "# Answer 11\n",
    "\n",
    "import numpy as np\n",
    "from statsmodels.stats.proportion import proportions_ztest\n",
    "\n",
    "# 50 purchases out of 1000 visitors for the old layout\n",
    "old_layout = np.array([1] * 50 + [0] * 950)\n",
    "\n",
    "# 70 purchases out of 1000 visitors for the new layout\n",
    "new_layout = np.array([1] * 70 + [0] * 930)\n",
    "\n",
    "# Count the number of successes (purchases) and total observations for each group\n",
    "successes = [np.sum(old_layout), np.sum(new_layout)]\n",
    "observations = [len(old_layout), len(new_layout)]\n",
    "\n",
    "# Perform the two-proportion Z-test\n",
    "stat, p_value = proportions_ztest(successes, observations, alternative='larger')\n",
    "\n",
    "# Print the results\n",
    "print(f\"Z-statistic: {stat:.4f}\")\n",
    "print(f\"P-value: {p_value:.4f}\")\n",
    "\n",
    "# Interpret the result\n",
    "alpha = 0.05\n",
    "if p_value < alpha:\n",
    "    print(\"Reject the null hypothesis: The new layout has a significantly higher conversion rate.\")\n",
    "else:\n",
    "    print(\"Fail to reject the null hypothesis: No significant difference in conversion rates.\")\n"
   ]
  },
  {
   "cell_type": "code",
   "execution_count": 13,
   "id": "b95645dd-d3ef-4319-9e4a-b2871aabbc0e",
   "metadata": {},
   "outputs": [
    {
     "data": {
      "text/plain": [
       "(3.8, 2.616188916046478, 4.593190894944668, 2.182597052646784e-06)"
      ]
     },
     "execution_count": 13,
     "metadata": {},
     "output_type": "execute_result"
    }
   ],
   "source": [
    "# Answer 12\n",
    "\n",
    "import numpy as np\n",
    "from scipy.stats import norm\n",
    "\n",
    "# Sample data\n",
    "before_program = np.array([75, 80, 85, 70, 90, 78, 92, 88, 82, 87])\n",
    "after_program = np.array([80, 85, 90, 80, 92, 80, 95, 90, 85, 88])\n",
    "\n",
    "# Calculate the differences\n",
    "differences = after_program - before_program\n",
    "\n",
    "# Mean and standard deviation of the differences\n",
    "mean_diff = np.mean(differences)\n",
    "std_diff = np.std(differences, ddof=1)  # sample standard deviation\n",
    "\n",
    "# Sample size\n",
    "n = len(differences)\n",
    "\n",
    "# Calculate the z-score\n",
    "z_score = mean_diff / (std_diff / np.sqrt(n))\n",
    "\n",
    "# Determine the p-value (one-tailed test)\n",
    "p_value = 1 - norm.cdf(z_score)\n",
    "\n",
    "mean_diff, std_diff, z_score, p_value\n"
   ]
  },
  {
   "cell_type": "code",
   "execution_count": 14,
   "id": "4d2f19b8-e0c2-463c-9e5a-b8e3dfee64db",
   "metadata": {},
   "outputs": [
    {
     "name": "stdout",
     "output_type": "stream",
     "text": [
      "T-statistic: 10.04987562112089\n",
      "P-value: 3.433031432681152e-06\n",
      "The drug is effective in reducing blood pressure (reject H0).\n"
     ]
    }
   ],
   "source": [
    "# Answer 13\n",
    "\n",
    "import numpy as np\n",
    "from scipy import stats\n",
    "\n",
    "# Blood pressure measurements before and after administering the drug\n",
    "before_drug = np.array([145, 150, 140, 135, 155, 160, 152, 148, 130, 138])\n",
    "after_drug = np.array([130, 140, 132, 128, 145, 148, 138, 136, 125, 130])\n",
    "\n",
    "# Perform a paired t-test\n",
    "t_statistic, p_value = stats.ttest_rel(before_drug, after_drug)\n",
    "\n",
    "# Output results\n",
    "print(\"T-statistic:\", t_statistic)\n",
    "print(\"P-value:\", p_value)\n",
    "\n",
    "# Interpret the results\n",
    "alpha = 0.05  # Significance level\n",
    "if p_value < alpha:\n",
    "    print(\"The drug is effective in reducing blood pressure (reject H0).\")\n",
    "else:\n",
    "    print(\"The drug is not effective in reducing blood pressure (fail to reject H0).\")\n"
   ]
  },
  {
   "cell_type": "code",
   "execution_count": 15,
   "id": "72f6bccc-38ca-40b6-b332-96aabaa34980",
   "metadata": {},
   "outputs": [
    {
     "name": "stdout",
     "output_type": "stream",
     "text": [
      "Z-statistic: -3.184457226042963\n",
      "P-value: 0.0007251287113068958\n",
      "The claim that the average response time is less than 5 minutes is supported (reject H0).\n"
     ]
    }
   ],
   "source": [
    "# Answer 14\n",
    "\n",
    "import numpy as np\n",
    "from scipy import stats\n",
    "\n",
    "# Response times recorded from the sample\n",
    "response_times = np.array([4.3, 3.8, 5.1, 4.9, 4.7, 4.2, 5.2, 4.5, 4.6, 4.4])\n",
    "\n",
    "# Parameters for the z-test\n",
    "population_mean = 5  # Claim made by customer service\n",
    "sample_mean = np.mean(response_times)\n",
    "sample_std = np.std(response_times, ddof=1)  # Sample standard deviation\n",
    "sample_size = len(response_times)\n",
    "\n",
    "# Perform a z-test\n",
    "z_statistic = (sample_mean - population_mean) / (sample_std / np.sqrt(sample_size))\n",
    "p_value = stats.norm.cdf(z_statistic)  # One-tailed test for less than\n",
    "\n",
    "# Output results\n",
    "print(\"Z-statistic:\", z_statistic)\n",
    "print(\"P-value:\", p_value)\n",
    "\n",
    "# Interpret the results\n",
    "alpha = 0.05  # Significance level\n",
    "if p_value < alpha:\n",
    "    print(\"The claim that the average response time is less than 5 minutes is supported (reject H0).\")\n",
    "else:\n",
    "    print(\"The claim that the average response time is less than 5 minutes is not supported (fail to reject H0).\")\n"
   ]
  },
  {
   "cell_type": "code",
   "execution_count": 16,
   "id": "7b8e2995-2786-431b-99eb-17eed270d7f9",
   "metadata": {},
   "outputs": [
    {
     "name": "stdout",
     "output_type": "stream",
     "text": [
      "T-statistic: -7.298102156175071\n",
      "Degrees of Freedom: 9\n",
      "P-value: 4.5739084843915195e-05\n",
      "There is a significant difference between the click-through rates of the two layouts (reject H0).\n"
     ]
    }
   ],
   "source": [
    "# Answer 15\n",
    "\n",
    "import numpy as np\n",
    "from scipy import stats\n",
    "\n",
    "def ab_test_analysis(layout_a_clicks, layout_b_clicks):\n",
    "    # Convert lists to numpy arrays\n",
    "    layout_a_clicks = np.array(layout_a_clicks)\n",
    "    layout_b_clicks = np.array(layout_b_clicks)\n",
    "    \n",
    "    # Calculate sample means\n",
    "    mean_a = np.mean(layout_a_clicks)\n",
    "    mean_b = np.mean(layout_b_clicks)\n",
    "    \n",
    "    # Calculate sample standard deviations\n",
    "    std_a = np.std(layout_a_clicks, ddof=1)\n",
    "    std_b = np.std(layout_b_clicks, ddof=1)\n",
    "    \n",
    "    # Calculate sample sizes\n",
    "    n_a = len(layout_a_clicks)\n",
    "    n_b = len(layout_b_clicks)\n",
    "    \n",
    "    # Calculate the t-statistic\n",
    "    pooled_std = np.sqrt(((std_a**2 / n_a) + (std_b**2 / n_b)))\n",
    "    t_statistic = (mean_a - mean_b) / pooled_std\n",
    "    \n",
    "    # Calculate degrees of freedom\n",
    "    df = min(n_a - 1, n_b - 1)\n",
    "    \n",
    "    # Calculate the p-value\n",
    "    p_value = 2 * stats.t.cdf(-abs(t_statistic), df)  # Two-tailed test\n",
    "    \n",
    "    return t_statistic, df, p_value\n",
    "\n",
    "# Data\n",
    "layout_a_clicks = [28, 32, 33, 29, 31, 34, 30, 35, 36, 37]\n",
    "layout_b_clicks = [40, 41, 38, 42, 39, 44, 43, 41, 45, 47]\n",
    "\n",
    "# Perform A/B test analysis\n",
    "t_statistic, df, p_value = ab_test_analysis(layout_a_clicks, layout_b_clicks)\n",
    "\n",
    "# Output results\n",
    "print(\"T-statistic:\", t_statistic)\n",
    "print(\"Degrees of Freedom:\", df)\n",
    "print(\"P-value:\", p_value)\n",
    "\n",
    "# Interpretation\n",
    "alpha = 0.05  # Significance level\n",
    "if p_value < alpha:\n",
    "    print(\"There is a significant difference between the click-through rates of the two layouts (reject H0).\")\n",
    "else:\n",
    "    print(\"There is no significant difference between the click-through rates of the two layouts (fail to reject H0).\")\n"
   ]
  },
  {
   "cell_type": "code",
   "execution_count": 17,
   "id": "f407fcaf-87b9-4370-b987-4797bcfa521c",
   "metadata": {},
   "outputs": [
    {
     "name": "stdout",
     "output_type": "stream",
     "text": [
      "T-statistic: 4.140480986208661\n",
      "Degrees of Freedom: 9\n",
      "P-value: 0.002519832704729902\n",
      "The new drug is significantly more effective than the existing drug in reducing cholesterol levels (reject H0).\n"
     ]
    }
   ],
   "source": [
    "# Answer 16\n",
    "\n",
    "import numpy as np\n",
    "from scipy import stats\n",
    "\n",
    "def analyze_drug_effect(existing_drug_levels, new_drug_levels):\n",
    "    # Convert lists to numpy arrays\n",
    "    existing_drug_levels = np.array(existing_drug_levels)\n",
    "    new_drug_levels = np.array(new_drug_levels)\n",
    "    \n",
    "    # Calculate sample means\n",
    "    mean_existing = np.mean(existing_drug_levels)\n",
    "    mean_new = np.mean(new_drug_levels)\n",
    "    \n",
    "    # Calculate sample standard deviations\n",
    "    std_existing = np.std(existing_drug_levels, ddof=1)\n",
    "    std_new = np.std(new_drug_levels, ddof=1)\n",
    "    \n",
    "    # Calculate sample sizes\n",
    "    n_existing = len(existing_drug_levels)\n",
    "    n_new = len(new_drug_levels)\n",
    "    \n",
    "    # Calculate the t-statistic\n",
    "    pooled_std = np.sqrt(((std_existing**2 / n_existing) + (std_new**2 / n_new)))\n",
    "    t_statistic = (mean_existing - mean_new) / pooled_std\n",
    "    \n",
    "    # Calculate degrees of freedom\n",
    "    df = min(n_existing - 1, n_new - 1)\n",
    "    \n",
    "    # Calculate the p-value\n",
    "    p_value = 2 * stats.t.cdf(-abs(t_statistic), df)  # Two-tailed test\n",
    "    \n",
    "    return t_statistic, df, p_value\n",
    "\n",
    "# Data\n",
    "existing_drug_levels = [180, 182, 175, 185, 178, 176, 172, 184, 179, 183]\n",
    "new_drug_levels = [170, 172, 165, 168, 175, 173, 170, 178, 172, 176]\n",
    "\n",
    "# Perform analysis\n",
    "t_statistic, df, p_value = analyze_drug_effect(existing_drug_levels, new_drug_levels)\n",
    "\n",
    "# Output results\n",
    "print(\"T-statistic:\", t_statistic)\n",
    "print(\"Degrees of Freedom:\", df)\n",
    "print(\"P-value:\", p_value)\n",
    "\n",
    "# Interpretation\n",
    "alpha = 0.05  # Significance level\n",
    "if p_value < alpha:\n",
    "    print(\"The new drug is significantly more effective than the existing drug in reducing cholesterol levels (reject H0).\")\n",
    "else:\n",
    "    print(\"There is no significant difference in effectiveness between the new drug and the existing drug (fail to reject H0).\")\n"
   ]
  },
  {
   "cell_type": "code",
   "execution_count": 18,
   "id": "78fbfd23-fb8b-4605-aa43-011107a204ca",
   "metadata": {},
   "outputs": [
    {
     "name": "stdout",
     "output_type": "stream",
     "text": [
      "T-statistic: 4.4284\n",
      "P-value: 0.0017\n",
      "The intervention had a significant impact on the test scores.\n"
     ]
    }
   ],
   "source": [
    "# Answer 17\n",
    "\n",
    "import numpy as np\n",
    "from scipy import stats\n",
    "\n",
    "def analyze_intervention(pre_scores, post_scores):\n",
    "    # Ensure the inputs are numpy arrays for easier manipulation\n",
    "    pre_scores = np.array(pre_scores)\n",
    "    post_scores = np.array(post_scores)\n",
    "    \n",
    "    # Check if the two arrays have the same length\n",
    "    if len(pre_scores) != len(post_scores):\n",
    "        raise ValueError(\"The length of pre-intervention and post-intervention scores must be the same.\")\n",
    "    \n",
    "    # Calculate the paired t-test\n",
    "    t_statistic, p_value = stats.ttest_rel(post_scores, pre_scores)\n",
    "    \n",
    "    return t_statistic, p_value\n",
    "\n",
    "# Test data\n",
    "pre_intervention_scores = [80, 85, 90, 75, 88, 82, 92, 78, 85, 87]\n",
    "post_intervention_scores = [90, 92, 88, 92, 95, 91, 96, 93, 89, 93]\n",
    "\n",
    "# Perform the analysis\n",
    "t_stat, p_val = analyze_intervention(pre_intervention_scores, post_intervention_scores)\n",
    "\n",
    "print(f\"T-statistic: {t_stat:.4f}\")\n",
    "print(f\"P-value: {p_val:.4f}\")\n",
    "\n",
    "# Interpretation\n",
    "alpha = 0.05\n",
    "if p_val < alpha:\n",
    "    print(\"The intervention had a significant impact on the test scores.\")\n",
    "else:\n",
    "    print(\"The intervention did not have a significant impact on the test scores.\")\n"
   ]
  },
  {
   "cell_type": "code",
   "execution_count": 19,
   "id": "8a37176d-3113-4017-b974-646d11486e76",
   "metadata": {},
   "outputs": [
    {
     "name": "stdout",
     "output_type": "stream",
     "text": [
      "Mean salary for males: $55693.35\n",
      "Mean salary for females: $55501.75\n",
      "Standard deviation for males: $8722.69\n",
      "Standard deviation for females: $10968.10\n",
      "T-statistic: 0.06\n",
      "P-value: 0.9516\n",
      "There is no statistically significant difference in average salaries.\n"
     ]
    }
   ],
   "source": [
    "# Answer 18\n",
    "\n",
    "import numpy as np\n",
    "from scipy import stats\n",
    "\n",
    "# Generate synthetic salary data for male and female employees\n",
    "np.random.seed(0)  # For reproducibility\n",
    "male_salaries = np.random.normal(loc=50000, scale=10000, size=20)\n",
    "female_salaries = np.random.normal(loc=55000, scale=9000, size=20)\n",
    "\n",
    "# Calculate means and standard deviations\n",
    "mean_male = np.mean(male_salaries)\n",
    "mean_female = np.mean(female_salaries)\n",
    "std_male = np.std(male_salaries, ddof=1)\n",
    "std_female = np.std(female_salaries, ddof=1)\n",
    "\n",
    "# Perform an independent two-sample t-test\n",
    "t_statistic, p_value = stats.ttest_ind(male_salaries, female_salaries)\n",
    "\n",
    "# Print results\n",
    "print(f\"Mean salary for males: ${mean_male:.2f}\")\n",
    "print(f\"Mean salary for females: ${mean_female:.2f}\")\n",
    "print(f\"Standard deviation for males: ${std_male:.2f}\")\n",
    "print(f\"Standard deviation for females: ${std_female:.2f}\")\n",
    "print(f\"T-statistic: {t_statistic:.2f}\")\n",
    "print(f\"P-value: {p_value:.4f}\")\n",
    "\n",
    "# Determine if the difference is statistically significant\n",
    "alpha = 0.05\n",
    "if p_value < alpha:\n",
    "    print(\"There is a statistically significant difference in average salaries.\")\n",
    "else:\n",
    "    print(\"There is no statistically significant difference in average salaries.\")\n"
   ]
  },
  {
   "cell_type": "code",
   "execution_count": 20,
   "id": "f57eb069-b1ce-4c32-9459-592272cc13c6",
   "metadata": {},
   "outputs": [
    {
     "name": "stdout",
     "output_type": "stream",
     "text": [
      "Version 1: Mean = 86.64, Std Dev = 2.36\n",
      "Version 2: Mean = 79.96, Std Dev = 1.77\n",
      "T-Statistic = 11.33\n",
      "P-Value = 0.0000\n",
      "Significant Difference: Yes\n"
     ]
    },
    {
     "data": {
      "text/plain": [
       "(11.325830417646698, 1.078754084378157e-14, True)"
      ]
     },
     "execution_count": 20,
     "metadata": {},
     "output_type": "execute_result"
    }
   ],
   "source": [
    "# Answer 19\n",
    "\n",
    "import numpy as np\n",
    "from scipy import stats\n",
    "\n",
    "def analyze_quality(version1_scores, version2_scores, alpha=0.05):\n",
    "    # Convert lists to numpy arrays for convenience\n",
    "    version1_scores = np.array(version1_scores)\n",
    "    version2_scores = np.array(version2_scores)\n",
    "    \n",
    "    # Calculate the means and standard deviations\n",
    "    mean1 = np.mean(version1_scores)\n",
    "    mean2 = np.mean(version2_scores)\n",
    "    std1 = np.std(version1_scores, ddof=1)\n",
    "    std2 = np.std(version2_scores, ddof=1)\n",
    "    \n",
    "    # Calculate the t-statistic and p-value\n",
    "    t_statistic, p_value = stats.ttest_ind(version1_scores, version2_scores, equal_var=False)\n",
    "    \n",
    "    # Determine if the result is statistically significant\n",
    "    significant = p_value < alpha\n",
    "    \n",
    "    # Print results\n",
    "    print(f\"Version 1: Mean = {mean1:.2f}, Std Dev = {std1:.2f}\")\n",
    "    print(f\"Version 2: Mean = {mean2:.2f}, Std Dev = {std2:.2f}\")\n",
    "    print(f\"T-Statistic = {t_statistic:.2f}\")\n",
    "    print(f\"P-Value = {p_value:.4f}\")\n",
    "    print(f\"Significant Difference: {'Yes' if significant else 'No'}\")\n",
    "    \n",
    "    return t_statistic, p_value, significant\n",
    "\n",
    "# Example data\n",
    "version1_scores = [85, 88, 82, 89, 87, 84, 90, 88, 85, 86, 91, 83, 87, 84, 89, 86, 84, 88, 85, 86, 89, 90, 87, 88, 85]\n",
    "version2_scores = [80, 78, 83, 81, 79, 82, 76, 80, 78, 81, 77, 82, 80, 79, 82, 79, 80, 81, 79, 82, 79, 78, 80, 81, 82]\n",
    "\n",
    "# Analyze quality scores\n",
    "analyze_quality(version1_scores, version2_scores)\n"
   ]
  },
  {
   "cell_type": "code",
   "execution_count": 21,
   "id": "e04e4c23-9d83-4d85-953f-6f0232b7f821",
   "metadata": {},
   "outputs": [
    {
     "name": "stdout",
     "output_type": "stream",
     "text": [
      "Branch A - Mean: 4.129032258064516, Std Dev: 0.7184212081070998\n",
      "Branch B - Mean: 3.129032258064516, Std Dev: 0.7184212081070998\n",
      "T-statistic: 5.480077554195743\n",
      "P-value: 8.895290509945655e-07\n",
      "There is a statistically significant difference between the two branches.\n"
     ]
    }
   ],
   "source": [
    "# Answer 20\n",
    "\n",
    "import numpy as np\n",
    "from scipy import stats\n",
    "\n",
    "# Data\n",
    "branch_a_scores = [4, 5, 3, 4, 5, 4, 5, 3, 4, 4, 5, 4, 4, 3, 4, 5, 5, 4, 3, 4, 5, 4, 3, 5, 4, 4, 5, 3, 4, 5, 4]\n",
    "branch_b_scores = [3, 4, 2, 3, 4, 3, 4, 2, 3, 3, 4, 3, 3, 2, 3, 4, 4, 3, 2, 3, 4, 3, 2, 4, 3, 3, 4, 2, 3, 4, 3]\n",
    "\n",
    "# Convert lists to numpy arrays\n",
    "a = np.array(branch_a_scores)\n",
    "b = np.array(branch_b_scores)\n",
    "\n",
    "# Calculate means and standard deviations\n",
    "mean_a = np.mean(a)\n",
    "mean_b = np.mean(b)\n",
    "std_a = np.std(a, ddof=1)\n",
    "std_b = np.std(b, ddof=1)\n",
    "\n",
    "# Perform the t-test\n",
    "t_stat, p_value = stats.ttest_ind(a, b)\n",
    "\n",
    "# Output results\n",
    "print(f\"Branch A - Mean: {mean_a}, Std Dev: {std_a}\")\n",
    "print(f\"Branch B - Mean: {mean_b}, Std Dev: {std_b}\")\n",
    "print(f\"T-statistic: {t_stat}\")\n",
    "print(f\"P-value: {p_value}\")\n",
    "\n",
    "# Determine if the result is statistically significant\n",
    "alpha = 0.05\n",
    "if p_value < alpha:\n",
    "    print(\"There is a statistically significant difference between the two branches.\")\n",
    "else:\n",
    "    print(\"There is no statistically significant difference between the two branches.\")\n"
   ]
  },
  {
   "cell_type": "code",
   "execution_count": 22,
   "id": "3eeed4b1-6408-49e7-ba43-967332deb987",
   "metadata": {},
   "outputs": [
    {
     "name": "stdout",
     "output_type": "stream",
     "text": [
      "Contingency Table:\n",
      "Voter Preference  Candidate A  Candidate B\n",
      "Age Group                                 \n",
      "18-30                      95           87\n",
      "31-50                      87           82\n",
      "51+                        84           65\n",
      "\n",
      "Chi-Square Test Results:\n",
      "Chi-Square Statistic: 0.8779923945254768\n",
      "P-value: 0.6446832311860852\n",
      "Degrees of Freedom: 2\n",
      "Expected Frequencies Table:\n",
      "[[96.824 85.176]\n",
      " [89.908 79.092]\n",
      " [79.268 69.732]]\n",
      "\n",
      "There is no significant association between age groups and voter preferences.\n"
     ]
    }
   ],
   "source": [
    "# Answer 21\n",
    "\n",
    "import numpy as np\n",
    "import pandas as pd\n",
    "from scipy.stats import chi2_contingency\n",
    "\n",
    "# Set seed for reproducibility\n",
    "np.random.seed(0)\n",
    "\n",
    "# Generate data\n",
    "sample_size = 500\n",
    "age_groups = np.random.choice(['18-30', '31-50', '51+'], size=sample_size)\n",
    "voter_preferences = np.random.choice(['Candidate A', 'Candidate B'], size=sample_size)\n",
    "\n",
    "# Create a DataFrame\n",
    "data = pd.DataFrame({'Age Group': age_groups, 'Voter Preference': voter_preferences})\n",
    "\n",
    "# Create a contingency table\n",
    "contingency_table = pd.crosstab(data['Age Group'], data['Voter Preference'])\n",
    "\n",
    "# Perform the Chi-Square test\n",
    "chi2, p, dof, ex = chi2_contingency(contingency_table)\n",
    "\n",
    "# Display results\n",
    "print(\"Contingency Table:\")\n",
    "print(contingency_table)\n",
    "print(\"\\nChi-Square Test Results:\")\n",
    "print(f\"Chi-Square Statistic: {chi2}\")\n",
    "print(f\"P-value: {p}\")\n",
    "print(f\"Degrees of Freedom: {dof}\")\n",
    "print(f\"Expected Frequencies Table:\\n{ex}\")\n",
    "\n",
    "# Interpret the result\n",
    "alpha = 0.05\n",
    "if p < alpha:\n",
    "    print(\"\\nThere is a significant association between age groups and voter preferences.\")\n",
    "else:\n",
    "    print(\"\\nThere is no significant association between age groups and voter preferences.\")\n"
   ]
  },
  {
   "cell_type": "code",
   "execution_count": 23,
   "id": "8d2f0a39-b04c-4a8a-b11e-7c69a860fc3f",
   "metadata": {},
   "outputs": [
    {
     "name": "stdout",
     "output_type": "stream",
     "text": [
      "Chi-Square Statistic: 27.777056277056275\n",
      "Degrees of Freedom: 6\n",
      "P-Value: 0.00010349448486004387\n",
      "Expected Frequencies:\n",
      " [[34.14634146 34.14634146 37.56097561 34.14634146]\n",
      " [36.58536585 36.58536585 40.24390244 36.58536585]\n",
      " [29.26829268 29.26829268 32.19512195 29.26829268]]\n"
     ]
    }
   ],
   "source": [
    "# Answer 22\n",
    "\n",
    "import numpy as np\n",
    "from scipy.stats import chi2_contingency\n",
    "\n",
    "# Sample data: Product satisfaction levels (rows) vs. Customer regions (columns)\n",
    "data = np.array([[50, 30, 40, 20], [30, 40, 30, 50], [20, 30, 40, 30]])\n",
    "\n",
    "# Perform Chi-Square Test\n",
    "chi2_stat, p_value, dof, expected = chi2_contingency(data)\n",
    "\n",
    "print(\"Chi-Square Statistic:\", chi2_stat)\n",
    "print(\"Degrees of Freedom:\", dof)\n",
    "print(\"P-Value:\", p_value)\n",
    "print(\"Expected Frequencies:\\n\", expected)\n"
   ]
  },
  {
   "cell_type": "code",
   "execution_count": null,
   "id": "ed1718d7-ece5-456b-8692-e09c4d7212d5",
   "metadata": {},
   "outputs": [],
   "source": [
    "# Answer 23"
   ]
  }
 ],
 "metadata": {
  "kernelspec": {
   "display_name": "Python 3 (ipykernel)",
   "language": "python",
   "name": "python3"
  },
  "language_info": {
   "codemirror_mode": {
    "name": "ipython",
    "version": 3
   },
   "file_extension": ".py",
   "mimetype": "text/x-python",
   "name": "python",
   "nbconvert_exporter": "python",
   "pygments_lexer": "ipython3",
   "version": "3.10.8"
  }
 },
 "nbformat": 4,
 "nbformat_minor": 5
}
